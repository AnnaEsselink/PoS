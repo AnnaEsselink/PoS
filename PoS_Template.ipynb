{
 "cells": [
  {
   "cell_type": "markdown",
   "metadata": {},
   "source": [
    "# Physics of Stars Computer Project\n",
    "\n",
    "## Your name (sXXXXXXX)"
   ]
  },
  {
   "cell_type": "code",
   "execution_count": 1,
   "metadata": {},
   "outputs": [],
   "source": [
    "# from IPython.core.display import display, HTML\n",
    "# display(HTML(\"<style>.container { width:99% !important; }</style>\")) Uncomment these lines for fullscreen mode :)\n",
    "\n",
    "import numpy as np\n",
    "from matplotlib.pyplot import figure, show\n",
    "#Import other prerequisites here"
   ]
  },
  {
   "cell_type": "markdown",
   "metadata": {},
   "source": [
    "## Abstract\n",
    "\n",
    "In this project..."
   ]
  },
  {
   "cell_type": "markdown",
   "metadata": {},
   "source": [
    "## Part 1 - Reading & Interpolating Data\n",
    "\n",
    "This part uses tables from the Opacity Project. Read the file **opacity_tables.tab**, which will explain what each table is for. You will see files named **table_xx_edited.txt** on Nestor. These are the necessary tables for this section (with **xx** corresponding to that table number in the opacity_tables file. The headers in these subfiles are removed for convenience. Note that you do not have all the data you need from just these files, and you may need to make some approximations with the data you are given. "
   ]
  },
  {
   "cell_type": "code",
   "execution_count": 2,
   "metadata": {},
   "outputs": [],
   "source": [
    "# Loading in data for necessary tables\n",
    "# This is an \"idiot-proof\" way of doing it, feel free to do it in a nicer way  - original file is opacity_tables.tab\n",
    "# Info on the tables also in opacity_tables.tab, so read that\n",
    "\n",
    "# Tables loaded\n",
    "opacity_OP_07_002 = np.loadtxt(\"table_73_edited.txt\") \n",
    "opacity_OP_07_004 = np.loadtxt(\"table_75_edited.txt\") \n",
    "opacity_OP_07_006 = np.loadtxt(\"table_76_edited.txt\") \n",
    "opacity_OP_1 = np.loadtxt(\"table_115_edited.txt\")\n",
    "\n",
    "# Headers for interpolating (x-axis in table is logR, y-axis is logT)\n",
    "logR_OP = [3.75, 3.8, 3.85, 3.9, 3.95, 4.0, 4.05, 4.1, 4.15, 4.2, 4.25, 4.3, 4.35, 4.4, 4.45, 4.5, 4.55, 4.6, 4.65, 4.7, 4.75, 4.8, 4.85, 4.9, 4.95, 5.0, 5.05, 5.1, 5.15, 5.2, 5.25, 5.3, 5.35, 5.4, 5.45, 5.5, 5.55, 5.6, 5.65, 5.7, 5.75, 5.8, 5.85, 5.9, 5.95, 6.0, 6.1, 6.2, 6.3, 6.4, 6.5, 6.6, 6.7, 6.8, 6.9, 7.0, 7.1, 7.2, 7.3, 7.4, 7.5, 7.6, 7.7, 7.8, 7.9, 8.0]\n",
    "logT_OP = [-8.0, -7.5, -7.0, -6.5, -6.0, -5.5, -5.0, -4.5, -4.0, -3.5, -3.0, -2.5, -2.0, -1.5, -1.0, -0.5, 0.0, 0.5, 1.0]"
   ]
  },
  {
   "cell_type": "code",
   "execution_count": 3,
   "metadata": {},
   "outputs": [],
   "source": [
    "# Interpolating data"
   ]
  },
  {
   "cell_type": "code",
   "execution_count": 4,
   "metadata": {},
   "outputs": [],
   "source": [
    "# Plotting data - Plot of κR vs log T"
   ]
  },
  {
   "cell_type": "markdown",
   "metadata": {},
   "source": [
    "### Extension to T, P\n"
   ]
  },
  {
   "cell_type": "code",
   "execution_count": 5,
   "metadata": {},
   "outputs": [],
   "source": [
    "# define functions here to return T, P as you derived above"
   ]
  },
  {
   "cell_type": "markdown",
   "metadata": {},
   "source": [
    "### Extending the Interpolator\n",
    "\n",
    "Here you will need the Grevesse and Noels tables. As before, an edited one without headers is given, but you are free to use the original data if you wish."
   ]
  },
  {
   "cell_type": "code",
   "execution_count": 6,
   "metadata": {},
   "outputs": [],
   "source": [
    "# Load new table, if you want to do this more elegantly the raw table is g7_02.tron\n",
    "opacity_GN = np.loadtxt(\"g7_02_edited.tron\")\n",
    "opacity_GN = np.array(opacity_GN)\n",
    "\n",
    "# Headers for this table\n",
    "logT_GN = [4.5, 4.45, 4.4, 4.35, 4.3, 4.25, 4.2, 4.15, 4.1, 4.05, 4.0, 3.95, 3.9, 3.85, 3.8, 3.75, 3.7, 3.65, 3.6, 3.55, 3.5, 3.49, 3.48, 3.47, 3.46, 3.45, 3.44, 3.43, 3.42, 3.41, 3.4, 3.39, 3.38, 3.37, 3.36, 3.35, 3.34, 3.33, 3.32, 3.31, 3.3, 3.29, 3.28, 3.27, 3.26, 3.25, 3.24, 3.23, 3.22, 3.21, 3.2, 3.19, 3.18, 3.17, 3.16, 3.15, 3.14, 3.13, 3.12, 3.11, 3.1, 3.09, 3.08, 3.07, 3.06, 3.05, 3.04, 3.03, 3.02, 3.01, 3.0, 2.99, 2.98, 2.97, 2.96, 2.95, 2.94, 2.93, 2.92, 2.91, 2.9, 2.85, 2.8, 2.75, 2.7]\n",
    "logR_GN = [-8.0, -7.5, -7.0, -6.5, -6.0, -5.5, -5.0, -4.5, -4.0, -3.5, -3.0, -2.5, -2.0, -1.5, -1.0, -0.5, 0.0, 0.5, 1.0]\n",
    "\n",
    "\n",
    "\n",
    "\n",
    "# Interpolate this new table"
   ]
  },
  {
   "cell_type": "code",
   "execution_count": 7,
   "metadata": {},
   "outputs": [],
   "source": [
    "# Plot of log T vs log kappa for new table only(sanity check)\n",
    "\n",
    "\n",
    "\n",
    "\n",
    "# Plot of unsmoothed log T vs log kappa for both data sets (sanity check)"
   ]
  },
  {
   "cell_type": "code",
   "execution_count": 8,
   "metadata": {},
   "outputs": [],
   "source": [
    "# Smooth transition in overlap region - think carefully here\n",
    "\n",
    "# Plot overlap region for both data sets and your smoothed transition (sanity check)\n",
    "\n",
    "# define function to return opacity over full range of log T, taking the correct value based on log T"
   ]
  },
  {
   "cell_type": "markdown",
   "metadata": {},
   "source": [
    "## Part 2\n",
    "\n",
    "### Derivation of T as a function of optical depth\n",
    "\n",
    "You can use LaTeX math commands for derivations in a Juptyer notebook. Don't forget to state your assumptions.\n",
    "\n",
    "\n",
    "### Discuss opacity approximation (independent of frequency and given by the Rosseland mean opacity.)\n"
   ]
  },
  {
   "cell_type": "code",
   "execution_count": 9,
   "metadata": {},
   "outputs": [],
   "source": [
    "# Plot of T as a function of optical depth for region of interest - think about what you can show as a verification"
   ]
  },
  {
   "cell_type": "markdown",
   "metadata": {},
   "source": [
    "### Derivation of the equation of hydrostatic equilibrium\n",
    "\n",
    "\n",
    "\n",
    "\n",
    "### Starting value for pressure"
   ]
  },
  {
   "cell_type": "code",
   "execution_count": 10,
   "metadata": {},
   "outputs": [],
   "source": [
    "# Integration for starting pressure values\n",
    "\n",
    "\n",
    "# Plot of pressure as a function of optical depth.\n",
    "\n",
    "\n",
    "# Plot of density as a function of optical depth\n",
    "\n",
    "\n",
    "# Plot of opacity as a function of optical depth"
   ]
  },
  {
   "cell_type": "markdown",
   "metadata": {},
   "source": [
    "### Relation between the optical depth and the geometrical depth"
   ]
  },
  {
   "cell_type": "code",
   "execution_count": 11,
   "metadata": {},
   "outputs": [],
   "source": [
    "# Integration of equation"
   ]
  },
  {
   "cell_type": "markdown",
   "metadata": {},
   "source": [
    "## Part 3\n",
    "\n",
    "### Loading in MARCS data\n",
    "\n",
    "The table **MARCS_solar_model.dat** from Nestor is already loaded for you."
   ]
  },
  {
   "cell_type": "code",
   "execution_count": 12,
   "metadata": {},
   "outputs": [],
   "source": [
    "# Extract values from MARCS table\n",
    "MARCS_k, MARCS_logTau, MARCS_z, MARCS_Temp, MARCS_P_e, MARCS_P_g, MARCS_P_rad, MARCS_P_turb = np.loadtxt('MARCS_solar_model.dat').T\n"
   ]
  },
  {
   "cell_type": "markdown",
   "metadata": {},
   "source": [
    "### Plots\n",
    "\n",
    "Plot your model and the MARCS data on same axes, discuss each plot"
   ]
  },
  {
   "cell_type": "markdown",
   "metadata": {},
   "source": [
    "### Plot of log tau vs T(tau)"
   ]
  },
  {
   "cell_type": "code",
   "execution_count": 13,
   "metadata": {},
   "outputs": [],
   "source": [
    "# Plot"
   ]
  },
  {
   "cell_type": "markdown",
   "metadata": {},
   "source": [
    "Discussion of plot\n",
    "\n",
    "### Plot of log tau vs P(tau)"
   ]
  },
  {
   "cell_type": "code",
   "execution_count": 14,
   "metadata": {},
   "outputs": [],
   "source": [
    "# Plot"
   ]
  },
  {
   "cell_type": "markdown",
   "metadata": {},
   "source": [
    "Discussion of plot\n",
    "\n",
    "### Plot of log tau vs rho(tau)"
   ]
  },
  {
   "cell_type": "code",
   "execution_count": 15,
   "metadata": {},
   "outputs": [],
   "source": [
    "# Plot"
   ]
  },
  {
   "cell_type": "markdown",
   "metadata": {},
   "source": [
    "Discussion of plot\n",
    "\n",
    "### Plot of log tau vs kappa(tau)"
   ]
  },
  {
   "cell_type": "code",
   "execution_count": 16,
   "metadata": {},
   "outputs": [],
   "source": [
    "# Plot"
   ]
  },
  {
   "cell_type": "markdown",
   "metadata": {},
   "source": [
    "Discussion of plot\n",
    "\n",
    "### Plot of log tau vs z(tau)"
   ]
  },
  {
   "cell_type": "code",
   "execution_count": 17,
   "metadata": {},
   "outputs": [],
   "source": [
    "# Plot"
   ]
  },
  {
   "cell_type": "markdown",
   "metadata": {},
   "source": [
    "Discussion of plot"
   ]
  },
  {
   "cell_type": "markdown",
   "metadata": {},
   "source": [
    "## Part 4\n",
    "\n",
    "Implement Saha equation to get ionisation fractions for H, He. Remember to discuss your plots, do they make sense?"
   ]
  },
  {
   "cell_type": "code",
   "execution_count": 18,
   "metadata": {},
   "outputs": [],
   "source": [
    "# Saha function"
   ]
  },
  {
   "cell_type": "code",
   "execution_count": 19,
   "metadata": {},
   "outputs": [],
   "source": [
    "# Plot of hydrogen ionization fraction as function of log tau\n",
    "\n",
    "\n",
    "# Plot of the ionisation fraction of helium as a function of log tau"
   ]
  },
  {
   "cell_type": "markdown",
   "metadata": {},
   "source": [
    "## Part 5\n",
    "\n",
    "### What would be the next step to create a model of an observed stellar spectrum?"
   ]
  },
  {
   "cell_type": "markdown",
   "metadata": {},
   "source": [
    "## References \n",
    "\n",
    "Pick a style and stick to it. Make sure to also cite them in the report where you use them."
   ]
  },
  {
   "cell_type": "code",
   "execution_count": null,
   "metadata": {},
   "outputs": [],
   "source": []
  }
 ],
 "metadata": {
  "kernelspec": {
   "display_name": "Anaconda3 - 4.2.0",
   "language": "python",
   "name": "python3"
  },
  "language_info": {
   "codemirror_mode": {
    "name": "ipython",
    "version": 3
   },
   "file_extension": ".py",
   "mimetype": "text/x-python",
   "name": "python",
   "nbconvert_exporter": "python",
   "pygments_lexer": "ipython3",
   "version": "3.5.2"
  }
 },
 "nbformat": 4,
 "nbformat_minor": 2
}
